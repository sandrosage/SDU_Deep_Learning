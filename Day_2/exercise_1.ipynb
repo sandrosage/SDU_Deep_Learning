{
 "cells": [
  {
   "cell_type": "code",
   "execution_count": 1,
   "metadata": {},
   "outputs": [],
   "source": [
    "from keras.datasets import mnist\n",
    "import seaborn as sns\n",
    "from keras.utils import to_categorical\n",
    "import matplotlib.pyplot as plt\n",
    "\n",
    "(train_data, train_labels), (test_data, test_labels) = mnist.load_data()"
   ]
  },
  {
   "cell_type": "code",
   "execution_count": 2,
   "metadata": {},
   "outputs": [
    {
     "data": {
      "image/png": "[encoded data removed]",
      "text/plain": [
       "<Figure size 432x288 with 2 Axes>"
      ]
     },
     "metadata": {
      "needs_background": "light"
     },
     "output_type": "display_data"
    },
    {
     "data": {
      "text/plain": [
       "(28, 28)"
      ]
     },
     "execution_count": 2,
     "metadata": {},
     "output_type": "execute_result"
    }
   ],
   "source": [
    "sns.heatmap(train_data[1, :, :])\n",
    "plt.show()\n",
    "train_data[1,:,:].shape"
   ]
  },
  {
   "cell_type": "code",
   "execution_count": 3,
   "metadata": {},
   "outputs": [],
   "source": [
    "train_data = train_data.reshape((60000, 28*28))\n",
    "test_data = test_data.reshape((10000, 28*28))\n",
    "num_classes = 10\n",
    "train_labels = to_categorical(train_labels,num_classes)\n",
    "test_labels = to_categorical(test_labels, num_classes)"
   ]
  },
  {
   "cell_type": "code",
   "execution_count": 7,
   "metadata": {},
   "outputs": [
    {
     "data": {
      "text/plain": [
       "(60000, 10)"
      ]
     },
     "execution_count": 7,
     "metadata": {},
     "output_type": "execute_result"
    }
   ],
   "source": [
    "train_labels.shape"
   ]
  },
  {
   "cell_type": "code",
   "execution_count": 4,
   "metadata": {},
   "outputs": [
    {
     "data": {
      "text/plain": [
       "(60000, 784)"
      ]
     },
     "execution_count": 4,
     "metadata": {},
     "output_type": "execute_result"
    }
   ],
   "source": [
    "train_data.shape"
   ]
  },
  {
   "cell_type": "code",
   "execution_count": 5,
   "metadata": {},
   "outputs": [],
   "source": [
    "train_data = train_data /255\n",
    "test_data = test_data /255"
   ]
  },
  {
   "cell_type": "code",
   "execution_count": 70,
   "metadata": {},
   "outputs": [
    {
     "name": "stdout",
     "output_type": "stream",
     "text": [
      "Model: \"MNISTClassification\"\n",
      "_________________________________________________________________\n",
      " Layer (type)                Output Shape              Param #   \n",
      "=================================================================\n",
      " HiddenLayer_1 (Dense)       (None, 32)                25120     \n",
      "                                                                 \n",
      " HiddenLayer_2 (Dense)       (None, 32)                1056      \n",
      "                                                                 \n",
      " OutputLayer (Dense)         (None, 10)                330       \n",
      "                                                                 \n",
      "=================================================================\n",
      "Total params: 26,506\n",
      "Trainable params: 26,506\n",
      "Non-trainable params: 0\n",
      "_________________________________________________________________\n"
     ]
    }
   ],
   "source": [
    "from keras import Sequential, Input, layers\n",
    "import tensorflow as tf\n",
    "model = Sequential([\n",
    "    Input(shape = (784,)),\n",
    "    layers.Dense(32, activation = \"relu\", name=\"HiddenLayer_1\"),\n",
    "    layers.Dense(32, activation = \"relu\", name=\"HiddenLayer_2\"),\n",
    "    layers.Dense(10, activation = \"softmax\", name=\"OutputLayer\"),\n",
    "], name=\"MNISTClassification\")\n",
    "model.summary()"
   ]
  },
  {
   "cell_type": "code",
   "execution_count": 65,
   "metadata": {},
   "outputs": [
    {
     "name": "stdout",
     "output_type": "stream",
     "text": [
      "Epoch 1/8\n",
      "844/844 [==============================] - 2s 2ms/step - loss: 0.0112 - acc: 0.9976 - val_loss: 0.1769 - val_acc: 0.9730\n",
      "Epoch 2/8\n",
      "844/844 [==============================] - 2s 2ms/step - loss: 0.0109 - acc: 0.9975 - val_loss: 0.1771 - val_acc: 0.9730\n",
      "Epoch 3/8\n",
      "844/844 [==============================] - 2s 2ms/step - loss: 0.0109 - acc: 0.9976 - val_loss: 0.1760 - val_acc: 0.9728\n",
      "Epoch 4/8\n",
      "844/844 [==============================] - 2s 2ms/step - loss: 0.0107 - acc: 0.9977 - val_loss: 0.1782 - val_acc: 0.9722\n",
      "Epoch 5/8\n",
      "844/844 [==============================] - 2s 2ms/step - loss: 0.0106 - acc: 0.9976 - val_loss: 0.1793 - val_acc: 0.9722\n",
      "Epoch 6/8\n",
      "844/844 [==============================] - 2s 2ms/step - loss: 0.0105 - acc: 0.9977 - val_loss: 0.1784 - val_acc: 0.9723\n",
      "Epoch 7/8\n",
      "844/844 [==============================] - 2s 2ms/step - loss: 0.0105 - acc: 0.9976 - val_loss: 0.1805 - val_acc: 0.9725\n",
      "Epoch 8/8\n",
      "844/844 [==============================] - 2s 2ms/step - loss: 0.0102 - acc: 0.9978 - val_loss: 0.1800 - val_acc: 0.9718\n"
     ]
    }
   ],
   "source": [
    "import numpy as np\n",
    "from keras.optimizers import RMSprop\n",
    "from keras.losses import CategoricalCrossentropy\n",
    "model.compile(\n",
    "    optimizer=RMSprop(learning_rate=0.0001),\n",
    "    loss = CategoricalCrossentropy(),\n",
    "    metrics = [\"acc\"]\n",
    ")\n",
    "\n",
    "history =model.fit(train_data.astype(np.float32), train_labels, batch_size=64, epochs=8, validation_split=0.1)"
   ]
  },
  {
   "cell_type": "code",
   "execution_count": 66,
   "metadata": {},
   "outputs": [
    {
     "data": {
      "text/plain": [
       "{'loss': [0.0112061882391572,\n",
       "  0.010913645848631859,\n",
       "  0.010892531834542751,\n",
       "  0.01070780772715807,\n",
       "  0.010610890574753284,\n",
       "  0.010485662147402763,\n",
       "  0.01045792456716299,\n",
       "  0.010227393358945847],\n",
       " 'acc': [0.9975740909576416,\n",
       "  0.9975185394287109,\n",
       "  0.9976111054420471,\n",
       "  0.9977037310600281,\n",
       "  0.9976481199264526,\n",
       "  0.9976851940155029,\n",
       "  0.9975555539131165,\n",
       "  0.9977962970733643],\n",
       " 'val_loss': [0.1768607199192047,\n",
       "  0.17712369561195374,\n",
       "  0.17600741982460022,\n",
       "  0.17816147208213806,\n",
       "  0.17928531765937805,\n",
       "  0.17838488519191742,\n",
       "  0.18048328161239624,\n",
       "  0.17996737360954285],\n",
       " 'val_acc': [0.9729999899864197,\n",
       "  0.9729999899864197,\n",
       "  0.9728333353996277,\n",
       "  0.9721666574478149,\n",
       "  0.9721666574478149,\n",
       "  0.9723333120346069,\n",
       "  0.9725000262260437,\n",
       "  0.971833348274231]}"
      ]
     },
     "execution_count": 66,
     "metadata": {},
     "output_type": "execute_result"
    }
   ],
   "source": [
    "history_dict = history.history\n",
    "history_dict.keys()\n",
    "history_dict"
   ]
  },
  {
   "cell_type": "code",
   "execution_count": 67,
   "metadata": {},
   "outputs": [
    {
     "data": {
      "image/png": "[encoded data removed]",
      "text/plain": [
       "<Figure size 432x288 with 1 Axes>"
      ]
     },
     "metadata": {
      "needs_background": "light"
     },
     "output_type": "display_data"
    }
   ],
   "source": [
    "import matplotlib.pyplot as plt\n",
    "loss_values = history_dict[\"loss\"]\n",
    "acc_values = history_dict[\"acc\"]\n",
    "val_loss = history_dict[\"val_loss\"]\n",
    "\n",
    "epochs = range(1,len(loss_values)+ 1)\n",
    "plt.plot(epochs, loss_values, \"b\", label=\"Training loss\")\n",
    "plt.plot(epochs, val_loss, \"r\", label=\"Validation loss\")\n",
    "plt.title(\"Training loss and accuracy per epoch\")\n",
    "plt.xlabel(\"Epochs\")\n",
    "plt.ylabel(\"%\")\n",
    "plt.legend()\n",
    "plt.show()"
   ]
  },
  {
   "cell_type": "markdown",
   "metadata": {},
   "source": [
    "    It is a clear sign of overfitting, when te training error goes down, but the testing error increases."
   ]
  },
  {
   "cell_type": "code",
   "execution_count": 1,
   "metadata": {},
   "outputs": [
    {
     "ename": "NameError",
     "evalue": "name 'test_data' is not defined",
     "output_type": "error",
     "traceback": [
      "\u001b[1;31m---------------------------------------------------------------------------\u001b[0m",
      "\u001b[1;31mNameError\u001b[0m                                 Traceback (most recent call last)",
      "\u001b[1;32mc:\\Users\\sandr\\source\\repos\\SDU_Deep_Learning\\Day_2\\exercise_1.ipynb Zelle 11\u001b[0m in \u001b[0;36m<cell line: 3>\u001b[1;34m()\u001b[0m\n\u001b[0;32m      <a href='vscode-notebook-cell:/c%3A/Users/sandr/source/repos/SDU_Deep_Learning/Day_2/exercise_1.ipynb#X13sZmlsZQ%3D%3D?line=1'>2</a>\u001b[0m value \u001b[39m=\u001b[39m randint(\u001b[39m0\u001b[39m, \u001b[39m200\u001b[39m)\n\u001b[0;32m      <a href='vscode-notebook-cell:/c%3A/Users/sandr/source/repos/SDU_Deep_Learning/Day_2/exercise_1.ipynb#X13sZmlsZQ%3D%3D?line=2'>3</a>\u001b[0m \u001b[39mfor\u001b[39;00m i \u001b[39min\u001b[39;00m \u001b[39mrange\u001b[39m(value,value\u001b[39m+\u001b[39m\u001b[39m8\u001b[39m):\n\u001b[1;32m----> <a href='vscode-notebook-cell:/c%3A/Users/sandr/source/repos/SDU_Deep_Learning/Day_2/exercise_1.ipynb#X13sZmlsZQ%3D%3D?line=3'>4</a>\u001b[0m     test_img \u001b[39m=\u001b[39m test_data[i,:]\u001b[39m.\u001b[39mreshape(\u001b[39m28\u001b[39m,\u001b[39m28\u001b[39m)\n\u001b[0;32m      <a href='vscode-notebook-cell:/c%3A/Users/sandr/source/repos/SDU_Deep_Learning/Day_2/exercise_1.ipynb#X13sZmlsZQ%3D%3D?line=4'>5</a>\u001b[0m     \u001b[39m#sns.heatmap(test_img)\u001b[39;00m\n\u001b[0;32m      <a href='vscode-notebook-cell:/c%3A/Users/sandr/source/repos/SDU_Deep_Learning/Day_2/exercise_1.ipynb#X13sZmlsZQ%3D%3D?line=5'>6</a>\u001b[0m     plt\u001b[39m.\u001b[39mimshow(test_img)\n",
      "\u001b[1;31mNameError\u001b[0m: name 'test_data' is not defined"
     ]
    }
   ],
   "source": [
    "from random import randint\n",
    "value = randint(0, 200)\n",
    "for i in range(value,value+8):\n",
    "    test_img = test_data[i,:].reshape(28,28)\n",
    "    #sns.heatmap(test_img)\n",
    "    plt.imshow(test_img)\n",
    "    test_img = test_img.reshape(1,784)\n",
    "    pred = model.predict(test_img)\n",
    "    print(\"Predicted truth: \" + str(np.argmax(pred, axis=1)[0])+  \" with a accuracy of: \" + str(pred[0][np.argmax(pred)]*100) + \"%\")\n",
    "    print(\"Ground truth: \", np.argmax(test_labels[i]))\n",
    "    plt.show()\n"
   ]
  }
 ],
 "metadata": {
  "kernelspec": {
   "display_name": "Python 3.10.6 ('venv': venv)",
   "language": "python",
   "name": "python3"
  },
  "language_info": {
   "codemirror_mode": {
    "name": "ipython",
    "version": 3
   },
   "file_extension": ".py",
   "mimetype": "text/x-python",
   "name": "python",
   "nbconvert_exporter": "python",
   "pygments_lexer": "ipython3",
   "version": "3.10.6"
  },
  "orig_nbformat": 4,
  "vscode": {
   "interpreter": {
    "hash": "584da16cd62a9f533c0ac40541222fd213977bd98b4b3d472b8442495038f20f"
   }
  }
 },
 "nbformat": 4,
 "nbformat_minor": 2
}
